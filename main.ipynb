{
 "cells": [
  {
   "cell_type": "markdown",
   "metadata": {},
   "source": [
    "## Libraries"
   ]
  },
  {
   "cell_type": "code",
   "execution_count": 2,
   "metadata": {},
   "outputs": [],
   "source": [
    "import numpy as np\n",
    "import matplotlib.pyplot as plt\n",
    "from scipy.fftpack import fft, ifft, rfft, fftfreq, fftshift\n",
    "from scipy import signal\n",
    "import scipy.io.wavfile as wavfile"
   ]
  },
  {
   "cell_type": "markdown",
   "metadata": {},
   "source": [
    "## Functions"
   ]
  },
  {
   "cell_type": "code",
   "execution_count": 3,
   "metadata": {},
   "outputs": [],
   "source": [
    "# wavFileLocation - file location of the .wav file\n",
    "# timeStep - the step at time at which a fourier transformation is performed\n",
    "def WavToFFT(wavFileLocation, timeStep):\n",
    "    fftList = []\n",
    "\n",
    "    # Step 1) Retrieve Wav File\n",
    "    try:\n",
    "        sampleRate, wavSignal = wavfile.read(wavFileLocation)\n",
    "    except:\n",
    "        print(f\"ERROR: could not open {wavFileLocation} file\")\n",
    "\n",
    "    # Step 2) Define Time Step\n",
    "    newSampleRate = sampleRate * timeStep\n",
    "    currSample = 0\n",
    "\n",
    "    # Step 3) Iterate over signal\n",
    "    while currSample < np.size(wavSignal):\n",
    "        fftList.append(fft(wavSignal[int(currSample):int(currSample)+int(newSampleRate)]))\n",
    "        currSample += int(newSampleRate)\n",
    "    \n",
    "    fftList = fftList[:-1] # remove last part in case it's not homogenous (i.e. not the same length as rest of values in list)\n",
    "    return fftList, wavSignal, sampleRate\n",
    "\n",
    "\n",
    "def reduceXMatrix(xMatrix, PCATruncationValue):\n",
    "    # Perform SVD\n",
    "    U, S, Vt = np.linalg.svd(xMatrix, full_matrices=False)\n",
    "\n",
    "    # Truncation Matrix\n",
    "    diagonal = np.zeros(np.size(S), dtype=int)\n",
    "    diagonal[:PCATruncationValue] = 1   \n",
    "\n",
    "    print(np.size(S))\n",
    "    # View PCA and truncate S\n",
    "    S *= diagonal\n",
    "\n",
    "    return np.dot(U, np.dot(np.diag(S), Vt))\n",
    "\n",
    "def outputFFTArr(fftArr, sampleRate):\n",
    "    reconstructedArr = []\n",
    "    for fftSegment in fftArr:\n",
    "        reconstructedArr.append(ifft(fftSegment).real)\n",
    "    wavfile.write('reconstructed.wav', sampleRate, np.concatenate(reconstructedArr).astype(np.float32))\n",
    "    "
   ]
  },
  {
   "cell_type": "markdown",
   "metadata": {},
   "source": [
    "## Main"
   ]
  },
  {
   "cell_type": "code",
   "execution_count": 7,
   "metadata": {},
   "outputs": [
    {
     "name": "stdout",
     "output_type": "stream",
     "text": [
      "599\n"
     ]
    },
    {
     "data": {
      "image/png": "[encoded data removed]",
      "text/plain": [
       "<Figure size 640x480 with 1 Axes>"
      ]
     },
     "metadata": {},
     "output_type": "display_data"
    },
    {
     "name": "stdout",
     "output_type": "stream",
     "text": [
      "In this case, the sine wave is moving at 50.0 Hz\n",
      "Compare this YouTube video of a sine wave at 440 hz https://www.youtube.com/watch?v=xGXYFJmvIvk&t=29s and the sine.wav file\n",
      "you'll notice that they sound the same showing that the fft is working accordingly\n"
     ]
    }
   ],
   "source": [
    "if __name__ == \"__main__\":\n",
    "    # Testing output of FFT\n",
    "    # In this case, the .wav file is being sampled every 0.1 seconds\n",
    "    # TODO: posibly implement NMF beforehand\n",
    "    # TODO: possibly change sample rate to change based on beat (i.e. detect quarter notes, whole notes, half notes, etc...)\n",
    "    fftArr, wavSignal, sampleRate = WavToFFT(\"SampleWavFiles\\sine.wav\", 0.1)\n",
    "    \n",
    "    # Perform PCA to extract principle frequencies\n",
    "    # TODO: Research truncation value\n",
    "    fftArr = reduceXMatrix(np.array(fftArr), 200)\n",
    "    \n",
    "    # Filter all but the top 1% of values (statistical thresholding)\n",
    "    for i, val in enumerate(fftArr):\n",
    "        sortedVals = np.sort(np.abs(val))[::-1]\n",
    "        val[np.abs(val) < sortedVals[int(np.size(sortedVals) * 0.01)]] = 0.0\n",
    "    \n",
    "    # Example of converting the FFT to a graph\n",
    "    frequencies = fftfreq(len(fftArr[1]), 1 / sampleRate)\n",
    "    sinWaveX = frequencies[frequencies >= 0]\n",
    "    sinWaveY = np.abs(fftArr[1])[frequencies >= 0]\n",
    "\n",
    "    # Here is the plot of the sin wave\n",
    "    plt.plot(sinWaveX, sinWaveY)\n",
    "    plt.show()\n",
    "\n",
    "    # Here is the frequency\n",
    "    sinWaveFrequency = sinWaveX[np.argmax(sinWaveY)]\n",
    "    print(f\"In this case, the sine wave is moving at {sinWaveFrequency} Hz\")\n",
    "    print(f\"Compare this YouTube video of a sine wave at 440 hz https://www.youtube.com/watch?v=xGXYFJmvIvk&t=29s and the sine.wav file\")\n",
    "    print(f\"you'll notice that they sound the same showing that the fft is working accordingly\")\n",
    "\n",
    "    # reconstruct wave\n",
    "    outputFFTArr(fftArr, sampleRate)"
   ]
  }
 ],
 "metadata": {
  "kernelspec": {
   "display_name": "venv",
   "language": "python",
   "name": "python3"
  },
  "language_info": {
   "codemirror_mode": {
    "name": "ipython",
    "version": 3
   },
   "file_extension": ".py",
   "mimetype": "text/x-python",
   "name": "python",
   "nbconvert_exporter": "python",
   "pygments_lexer": "ipython3",
   "version": "3.11.1"
  }
 },
 "nbformat": 4,
 "nbformat_minor": 2
}
