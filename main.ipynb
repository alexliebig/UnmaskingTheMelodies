{
 "cells": [
  {
   "cell_type": "markdown",
   "metadata": {},
   "source": [
    "## Libraries"
   ]
  },
  {
   "cell_type": "code",
   "execution_count": 1,
   "metadata": {},
   "outputs": [],
   "source": [
    "import numpy as np\n",
    "import matplotlib.pyplot as plt\n",
    "from scipy.fftpack import fft, ifft, rfft, fftfreq, fftshift\n",
    "from scipy import signal\n",
    "import scipy.io.wavfile as wavfile"
   ]
  },
  {
   "cell_type": "markdown",
   "metadata": {},
   "source": [
    "## Functions"
   ]
  },
  {
   "cell_type": "code",
   "execution_count": 2,
   "metadata": {},
   "outputs": [],
   "source": [
    "# wavFileLocation - file location of the .wav file\n",
    "# timeStep - the step at time at which a fourier transformation is performed\n",
    "def WavToFFT(wavFileLocation, timeStep):\n",
    "    fftList = []\n",
    "\n",
    "    # Step 1) Retrieve Wav File\n",
    "    try:\n",
    "        sampleRate, wavSignal = wavfile.read(wavFileLocation)\n",
    "    except:\n",
    "        print(f\"ERROR: could not open {wavFileLocation} file\")\n",
    "\n",
    "    \n",
    "    # Step 2) Define Time Step\n",
    "    newSampleRate = sampleRate * timeStep\n",
    "    currSample = 0\n",
    "\n",
    "    # Step 3) Iterate over signal\n",
    "    while currSample < np.size(wavSignal):\n",
    "        fftList.append(fft(wavSignal[int(currSample):int(currSample)+int(newSampleRate)]))\n",
    "        currSample += int(newSampleRate)\n",
    "        if currSample > np.size(wavSignal):\n",
    "            fftList.append(fft(wavSignal[int(currSample)-int(newSampleRate):]))\n",
    "    \n",
    "    return fftList, wavSignal, sampleRate"
   ]
  },
  {
   "cell_type": "markdown",
   "metadata": {},
   "source": [
    "## Main"
   ]
  },
  {
   "cell_type": "code",
   "execution_count": 3,
   "metadata": {},
   "outputs": [
    {
     "data": {
      "image/png": "[encoded data removed]",
      "text/plain": [
       "<Figure size 640x480 with 1 Axes>"
      ]
     },
     "metadata": {},
     "output_type": "display_data"
    },
    {
     "name": "stdout",
     "output_type": "stream",
     "text": [
      "In this case, the sine wave is moving at 440 Hz\n",
      "Compare this YouTube video of a sin wave at 440 hz https://www.youtube.com/watch?v=xGXYFJmvIvk&t=29s and the sine.wav file\n",
      "you'll notice that they sound the same showing that the fft is working accordingly\n"
     ]
    }
   ],
   "source": [
    "if __name__ == \"__main__\":\n",
    "    # Testing output of FFT\n",
    "    # In this case, the .wav file is being sampled every 1 seconds\n",
    "    fftArr, wavSignal, sampleRate = WavToFFT(\"sine.wav\", 1)\n",
    "    frequencies = fftfreq(len(fftArr[0]), 1 / sampleRate)\n",
    "    sinWaveX = frequencies[frequencies >= 0]\n",
    "    sinWaveY = np.abs(fftArr[0])[frequencies >= 0]\n",
    "\n",
    "    # Here is the plot of the sin wave\n",
    "    plt.plot(sinWaveX, sinWaveY)\n",
    "    plt.show()\n",
    "\n",
    "    # Here is the frequency\n",
    "    sinWaveFrequency = np.argmax(np.abs(fftArr[1])[frequencies >= 0])\n",
    "    print(f\"In this case, the sine wave is moving at {sinWaveFrequency} Hz\")\n",
    "    print(f\"Compare this YouTube video of a sine wave at 440 hz https://www.youtube.com/watch?v=xGXYFJmvIvk&t=29s and the sine.wav file\")\n",
    "    print(f\"you'll notice that they sound the same showing that the fft is working accordingly\")"
   ]
  }
 ],
 "metadata": {
  "kernelspec": {
   "display_name": "venv",
   "language": "python",
   "name": "python3"
  },
  "language_info": {
   "codemirror_mode": {
    "name": "ipython",
    "version": 3
   },
   "file_extension": ".py",
   "mimetype": "text/x-python",
   "name": "python",
   "nbconvert_exporter": "python",
   "pygments_lexer": "ipython3",
   "version": "3.11.1"
  }
 },
 "nbformat": 4,
 "nbformat_minor": 2
}
